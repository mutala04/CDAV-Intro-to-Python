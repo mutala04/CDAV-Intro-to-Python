{
  "nbformat": 4,
  "nbformat_minor": 0,
  "metadata": {
    "colab": {
      "provenance": [],
      "authorship_tag": "ABX9TyMewutujCe6S/3yU6cPFdlO",
      "include_colab_link": true
    },
    "kernelspec": {
      "name": "python3",
      "display_name": "Python 3"
    },
    "language_info": {
      "name": "python"
    }
  },
  "cells": [
    {
      "cell_type": "markdown",
      "metadata": {
        "id": "view-in-github",
        "colab_type": "text"
      },
      "source": [
        "<a href=\"https://colab.research.google.com/github/mutala04/CDAV-Intro-to-Python/blob/main/Mini_lists.ipynb\" target=\"_parent\"><img src=\"https://colab.research.google.com/assets/colab-badge.svg\" alt=\"Open In Colab\"/></a>"
      ]
    },
    {
      "cell_type": "code",
      "execution_count": null,
      "metadata": {
        "id": "RBZSI-wiP0iM"
      },
      "outputs": [],
      "source": [
        "Foods = ['Pizza', 'Cake', 'Bananas', 'Kales', 'Pizza', 'Chicken', 'Beef']"
      ]
    },
    {
      "cell_type": "code",
      "source": [
        "Foods[0]"
      ],
      "metadata": {
        "colab": {
          "base_uri": "https://localhost:8080/",
          "height": 36
        },
        "id": "vHSNZiTWQwx4",
        "outputId": "7aba78aa-81a4-4fbf-f878-ad50aa4a2979"
      },
      "execution_count": null,
      "outputs": [
        {
          "output_type": "execute_result",
          "data": {
            "text/plain": [
              "'Pizza'"
            ],
            "application/vnd.google.colaboratory.intrinsic+json": {
              "type": "string"
            }
          },
          "metadata": {},
          "execution_count": 7
        }
      ]
    },
    {
      "cell_type": "code",
      "source": [
        "Foods[6]"
      ],
      "metadata": {
        "colab": {
          "base_uri": "https://localhost:8080/",
          "height": 36
        },
        "id": "Rw1EOMixR8vQ",
        "outputId": "c175eeea-ecf7-444f-fd45-6cac366c09a0"
      },
      "execution_count": null,
      "outputs": [
        {
          "output_type": "execute_result",
          "data": {
            "text/plain": [
              "'Beef'"
            ],
            "application/vnd.google.colaboratory.intrinsic+json": {
              "type": "string"
            }
          },
          "metadata": {},
          "execution_count": 6
        }
      ]
    },
    {
      "cell_type": "code",
      "source": [
        "Foods[2]= \"Apple\"\n",
        "Foods"
      ],
      "metadata": {
        "colab": {
          "base_uri": "https://localhost:8080/"
        },
        "id": "q8bnhhj-SHUB",
        "outputId": "52fb461c-8853-4d03-f2d3-ad34fdc7acbf"
      },
      "execution_count": null,
      "outputs": [
        {
          "output_type": "execute_result",
          "data": {
            "text/plain": [
              "['Pizza', 'Cake', 'Apple', 'Kales', 'Pizza', 'Chicken', 'Beef']"
            ]
          },
          "metadata": {},
          "execution_count": 10
        }
      ]
    },
    {
      "cell_type": "code",
      "source": [
        "Foods.append(\"Sausage\")\n",
        "Foods"
      ],
      "metadata": {
        "colab": {
          "base_uri": "https://localhost:8080/"
        },
        "id": "9GNs1UIISmQB",
        "outputId": "bcf242be-7a42-4cee-822d-4b0e7d326205"
      },
      "execution_count": null,
      "outputs": [
        {
          "output_type": "execute_result",
          "data": {
            "text/plain": [
              "['Pizza', 'Cake', 'Apple', 'Kales', 'Pizza', 'Chicken', 'Beef', 'Sausage']"
            ]
          },
          "metadata": {},
          "execution_count": 11
        }
      ]
    },
    {
      "cell_type": "code",
      "source": [
        "Foods.remove(\"Cake\")\n",
        "Foods"
      ],
      "metadata": {
        "colab": {
          "base_uri": "https://localhost:8080/"
        },
        "id": "JvV10mRyTPlq",
        "outputId": "15b8e91c-c75e-4ff0-cbfc-0fb25cc83ef0"
      },
      "execution_count": null,
      "outputs": [
        {
          "output_type": "execute_result",
          "data": {
            "text/plain": [
              "['Pizza', 'Apple', 'Kales', 'Pizza', 'Chicken', 'Beef', 'Sausage']"
            ]
          },
          "metadata": {},
          "execution_count": 12
        }
      ]
    },
    {
      "cell_type": "code",
      "source": [
        "for Food in Foods:\n",
        "  print(Food)"
      ],
      "metadata": {
        "colab": {
          "base_uri": "https://localhost:8080/"
        },
        "id": "rq7VJ_V4Tbiy",
        "outputId": "e32afb09-f81e-4c72-94e5-c0cd5091558a"
      },
      "execution_count": null,
      "outputs": [
        {
          "output_type": "stream",
          "name": "stdout",
          "text": [
            "Pizza\n",
            "Apple\n",
            "Kales\n",
            "Pizza\n",
            "Chicken\n",
            "Beef\n",
            "Sausage\n"
          ]
        }
      ]
    },
    {
      "cell_type": "code",
      "source": [
        "print(\"Foods starting with 'a':\")\n",
        "for Food in Foods:\n",
        "  if Food.lower().startswith('a'):\n",
        "    print(Food)"
      ],
      "metadata": {
        "colab": {
          "base_uri": "https://localhost:8080/"
        },
        "id": "vfHg-qeRTp9G",
        "outputId": "8ede1c62-822b-49ee-a8bd-7a76ed00ca88"
      },
      "execution_count": null,
      "outputs": [
        {
          "output_type": "stream",
          "name": "stdout",
          "text": [
            "Foods starting with 'a':\n",
            "Apple\n"
          ]
        }
      ]
    },
    {
      "cell_type": "code",
      "source": [
        "Pizza_count = Foods.count(\"Pizza\")\n",
        "print(f\"Pizza appears in the list {Pizza_count} times.\")"
      ],
      "metadata": {
        "colab": {
          "base_uri": "https://localhost:8080/"
        },
        "id": "wYcxeY0oWs0w",
        "outputId": "9fe11f96-7877-40a7-e41c-1fcf2f00c3ba"
      },
      "execution_count": null,
      "outputs": [
        {
          "output_type": "stream",
          "name": "stdout",
          "text": [
            "Pizza appears in the list 2 times.\n"
          ]
        }
      ]
    },
    {
      "cell_type": "code",
      "source": [
        "Foods[1:4:1]"
      ],
      "metadata": {
        "colab": {
          "base_uri": "https://localhost:8080/"
        },
        "id": "NQCvG4itYHEN",
        "outputId": "d4d163db-6c2d-481b-a878-1b0523655093"
      },
      "execution_count": null,
      "outputs": [
        {
          "output_type": "execute_result",
          "data": {
            "text/plain": [
              "['Apple', 'Kales', 'Pizza']"
            ]
          },
          "metadata": {},
          "execution_count": 24
        }
      ]
    },
    {
      "cell_type": "code",
      "source": [
        "Foods[::-1]"
      ],
      "metadata": {
        "colab": {
          "base_uri": "https://localhost:8080/"
        },
        "id": "QW4BcB2FZACv",
        "outputId": "14420a29-f0f7-4305-f389-6b55c5dbb76e"
      },
      "execution_count": null,
      "outputs": [
        {
          "output_type": "execute_result",
          "data": {
            "text/plain": [
              "['Sausage', 'Beef', 'Chicken', 'Pizza', 'Kales', 'Apple', 'Pizza']"
            ]
          },
          "metadata": {},
          "execution_count": 27
        }
      ]
    },
    {
      "cell_type": "code",
      "source": [
        "numbers= [5,2,9,1,7]"
      ],
      "metadata": {
        "id": "ruUSNmW-Zwpd"
      },
      "execution_count": null,
      "outputs": []
    },
    {
      "cell_type": "code",
      "source": [
        "sum(numbers)"
      ],
      "metadata": {
        "colab": {
          "base_uri": "https://localhost:8080/"
        },
        "id": "UnprFyaSaGkI",
        "outputId": "e8cf12d7-ada5-4ecb-ab19-59b6b3281e03"
      },
      "execution_count": null,
      "outputs": [
        {
          "output_type": "execute_result",
          "data": {
            "text/plain": [
              "24"
            ]
          },
          "metadata": {},
          "execution_count": 35
        }
      ]
    },
    {
      "cell_type": "code",
      "source": [
        "max(numbers)"
      ],
      "metadata": {
        "colab": {
          "base_uri": "https://localhost:8080/"
        },
        "id": "TCLfrVSJaTQP",
        "outputId": "c757733f-77c7-4ec3-96d6-583dc92ff3de"
      },
      "execution_count": null,
      "outputs": [
        {
          "output_type": "execute_result",
          "data": {
            "text/plain": [
              "9"
            ]
          },
          "metadata": {},
          "execution_count": 36
        }
      ]
    },
    {
      "cell_type": "code",
      "source": [
        "min(numbers)"
      ],
      "metadata": {
        "colab": {
          "base_uri": "https://localhost:8080/"
        },
        "id": "ER2h6RTtbIkN",
        "outputId": "32ea8709-f569-4723-9ccb-c2da2bdbaca7"
      },
      "execution_count": null,
      "outputs": [
        {
          "output_type": "execute_result",
          "data": {
            "text/plain": [
              "1"
            ]
          },
          "metadata": {},
          "execution_count": 37
        }
      ]
    },
    {
      "cell_type": "code",
      "source": [
        "numbers.sort()\n",
        "print(\"ascending:\", numbers)\n",
        "numbers.reverse()\n",
        "print(\"descending:\", numbers)"
      ],
      "metadata": {
        "colab": {
          "base_uri": "https://localhost:8080/"
        },
        "id": "ry6bwAsobLRk",
        "outputId": "dd3208b2-ce62-46cc-c31f-088a5ff2d729"
      },
      "execution_count": null,
      "outputs": [
        {
          "output_type": "stream",
          "name": "stdout",
          "text": [
            "ascending: [1, 2, 5, 7, 9]\n",
            "descending: [9, 7, 5, 2, 1]\n"
          ]
        }
      ]
    },
    {
      "cell_type": "code",
      "source": [
        "numbers.insert(2, 10)\n",
        "numbers"
      ],
      "metadata": {
        "colab": {
          "base_uri": "https://localhost:8080/"
        },
        "id": "hTHIA05ilMdB",
        "outputId": "a70ef288-e6bc-4168-e2dc-a36761c3c4da"
      },
      "execution_count": null,
      "outputs": [
        {
          "output_type": "execute_result",
          "data": {
            "text/plain": [
              "[9, 7, 10, 5, 2, 1]"
            ]
          },
          "metadata": {},
          "execution_count": 40
        }
      ]
    },
    {
      "cell_type": "code",
      "source": [
        "students_and_scores = (\n",
        "    ['Alice', 85],\n",
        "    ['Bob', 78],\n",
        "    ['Charlie', 92]\n",
        ")\n",
        "\n",
        "for student in students_and_scores:\n",
        "  name = student[0]\n",
        "  score = student[1]\n",
        "  print(f\"{name}'s score is {score}\")"
      ],
      "metadata": {
        "id": "N1nJ8oPSmB7k",
        "colab": {
          "base_uri": "https://localhost:8080/"
        },
        "outputId": "80fd1d71-2688-4fea-91fb-df03fb057c70"
      },
      "execution_count": null,
      "outputs": [
        {
          "output_type": "stream",
          "name": "stdout",
          "text": [
            "Alice's score is 85\n",
            "Bob's score is 78\n",
            "Charlie's score is 92\n"
          ]
        }
      ]
    },
    {
      "cell_type": "code",
      "source": [
        "max(students_and_scores)"
      ],
      "metadata": {
        "colab": {
          "base_uri": "https://localhost:8080/"
        },
        "id": "_LLqfyUHTUdG",
        "outputId": "4996d918-3bf2-413b-d542-bcb0694b6016"
      },
      "execution_count": null,
      "outputs": [
        {
          "output_type": "execute_result",
          "data": {
            "text/plain": [
              "['Charlie', 92]"
            ]
          },
          "metadata": {},
          "execution_count": 2
        }
      ]
    },
    {
      "cell_type": "code",
      "source": [
        "def get_five_numbers():\n",
        "\n",
        "  numbers_list = []\n",
        "  for i in range(5):\n",
        "    while True:\n",
        "      try:\n",
        "        user_input = input(f\"Please enter number {i+1} of 5: \")\n",
        "        numbers = int(user_input)\n",
        "        numbers_list.append(numbers)\n",
        "        break\n",
        "      except ValueError:\n",
        "        print(\"Invalid input. Please enter a valid number.\")\n",
        "  return numbers_list\n",
        "\n",
        "my_numbers = get_five_numbers()\n",
        "\n",
        "print(\"\\nHere are the numbers you entered\")\n",
        "print(my_numbers)"
      ],
      "metadata": {
        "colab": {
          "base_uri": "https://localhost:8080/"
        },
        "id": "OQUlCQU4VrFQ",
        "outputId": "406423e9-b3e1-4242-ec8d-fdde69aa3770"
      },
      "execution_count": 13,
      "outputs": [
        {
          "output_type": "stream",
          "name": "stdout",
          "text": [
            "Please enter number 1 of 5: 10\n",
            "Please enter number 2 of 5: 15\n",
            "Please enter number 3 of 5: 20\n",
            "Please enter number 4 of 5: 25\n",
            "Please enter number 5 of 5: 30\n",
            "\n",
            "Here are the numbers you entered\n",
            "[10, 15, 20, 25, 30]\n"
          ]
        }
      ]
    },
    {
      "cell_type": "code",
      "source": [
        "def get_even_numbers(numbers_list):\n",
        "  even_numbers = [number for number in numbers_list if number % 2 == 0]\n",
        "  return even_numbers\n",
        "\n",
        "numbers_list = my_numbers\n",
        "\n",
        "evens = get_even_numbers(numbers_list)\n",
        "\n",
        "print(\"Even numbers:\", evens)\n"
      ],
      "metadata": {
        "id": "pyIbD4ovtk6x",
        "colab": {
          "base_uri": "https://localhost:8080/"
        },
        "outputId": "498a0c3a-c874-42c2-e44e-013d61523c8d"
      },
      "execution_count": 16,
      "outputs": [
        {
          "output_type": "stream",
          "name": "stdout",
          "text": [
            "Even numbers: [10, 20, 30]\n"
          ]
        }
      ]
    },
    {
      "cell_type": "code",
      "source": [
        "def get_odd_numbers(numbers_list):\n",
        "  odd_numbers = [number for number in numbers_list if number % 2 == 1]\n",
        "  return odd_numbers\n",
        "\n",
        "numbers_list = my_numbers\n",
        "\n",
        "odds = get_odd_numbers(numbers_list)\n",
        "\n",
        "print(\"Odd numbers:\", odds)"
      ],
      "metadata": {
        "colab": {
          "base_uri": "https://localhost:8080/"
        },
        "id": "k99WQHZYhnuN",
        "outputId": "bfa9d9cb-b179-461f-9af9-94f8308349fa"
      },
      "execution_count": 17,
      "outputs": [
        {
          "output_type": "stream",
          "name": "stdout",
          "text": [
            "Odd numbers: [15, 25]\n"
          ]
        }
      ]
    },
    {
      "cell_type": "code",
      "source": [
        "merged_list = evens + odds\n",
        "print(\"Merged list:\", merged_list)"
      ],
      "metadata": {
        "colab": {
          "base_uri": "https://localhost:8080/"
        },
        "id": "846OPUCqkq9J",
        "outputId": "a70a8935-27f5-40f6-be27-a046ba61db25"
      },
      "execution_count": 19,
      "outputs": [
        {
          "output_type": "stream",
          "name": "stdout",
          "text": [
            "Merged list: [10, 20, 30, 15, 25, 15, 25]\n"
          ]
        }
      ]
    },
    {
      "cell_type": "code",
      "source": [
        "student_names = []\n",
        "\n",
        "while True:\n",
        "  name = input(\"Enter a student name(or type 'stop' to finish): \")\n",
        "  if name.lower() == \"stop\":\n",
        "    break\n",
        "  student_names.append(name)\n",
        "\n",
        "print(\"\\nStudent names you entered: \")\n",
        "print(student_names)"
      ],
      "metadata": {
        "colab": {
          "base_uri": "https://localhost:8080/"
        },
        "id": "lcY5oB0mk4lw",
        "outputId": "5ecb187f-5060-43ae-8c82-7d55a3206763"
      },
      "execution_count": 20,
      "outputs": [
        {
          "output_type": "stream",
          "name": "stdout",
          "text": [
            "Enter a student name(or type 'stop' to finish): Erick\n",
            "Enter a student name(or type 'stop' to finish): Eliud\n",
            "Enter a student name(or type 'stop' to finish): Jules\n",
            "Enter a student name(or type 'stop' to finish): Lynnette\n",
            "Enter a student name(or type 'stop' to finish): Rose\n",
            "Enter a student name(or type 'stop' to finish): John\n",
            "Enter a student name(or type 'stop' to finish): stop\n",
            "\n",
            "Student names you entered: \n",
            "['Erick', 'Eliud', 'Jules', 'Lynnette', 'Rose', 'John']\n"
          ]
        }
      ]
    },
    {
      "cell_type": "code",
      "source": [
        "print(\"Names with 5 or more characters:\")\n",
        "for name in student_names:\n",
        "  if len(name) >= 5:\n",
        "    print(name)\n"
      ],
      "metadata": {
        "colab": {
          "base_uri": "https://localhost:8080/"
        },
        "id": "bJrR_UWtmE7e",
        "outputId": "15a14e4a-665a-4ccb-bee4-8173752e2ecc"
      },
      "execution_count": 21,
      "outputs": [
        {
          "output_type": "stream",
          "name": "stdout",
          "text": [
            "Names with 5 or more characters:\n",
            "Erick\n",
            "Eliud\n",
            "Jules\n",
            "Lynnette\n"
          ]
        }
      ]
    },
    {
      "cell_type": "code",
      "source": [],
      "metadata": {
        "id": "TsNa1Fcnnusr"
      },
      "execution_count": null,
      "outputs": []
    }
  ]
}