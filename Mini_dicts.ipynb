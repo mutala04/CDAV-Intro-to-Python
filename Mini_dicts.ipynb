{
  "nbformat": 4,
  "nbformat_minor": 0,
  "metadata": {
    "colab": {
      "provenance": [],
      "authorship_tag": "ABX9TyN8eiHU5X058KbvBnahYZ3j",
      "include_colab_link": true
    },
    "kernelspec": {
      "name": "python3",
      "display_name": "Python 3"
    },
    "language_info": {
      "name": "python"
    }
  },
  "cells": [
    {
      "cell_type": "markdown",
      "metadata": {
        "id": "view-in-github",
        "colab_type": "text"
      },
      "source": [
        "<a href=\"https://colab.research.google.com/github/mutala04/CDAV-Intro-to-Python/blob/main/Mini_dicts.ipynb\" target=\"_parent\"><img src=\"https://colab.research.google.com/assets/colab-badge.svg\" alt=\"Open In Colab\"/></a>"
      ]
    },
    {
      "cell_type": "code",
      "execution_count": 1,
      "metadata": {
        "colab": {
          "base_uri": "https://localhost:8080/"
        },
        "id": "NYBO1EFN7J9S",
        "outputId": "36445221-f6a0-4f11-a7b1-74f36c3b6ad0"
      },
      "outputs": [
        {
          "output_type": "stream",
          "name": "stdout",
          "text": [
            "{'name': 'Alice', 'age': 14, 'grade': 'B'}\n"
          ]
        }
      ],
      "source": [
        "student = {\n",
        "    \"name\": \"Alice\",\n",
        "    \"age\": 14,\n",
        "    \"grade\": \"B\"\n",
        "}\n",
        "\n",
        "print(student)"
      ]
    },
    {
      "cell_type": "code",
      "source": [
        "print(student[\"name\"])"
      ],
      "metadata": {
        "colab": {
          "base_uri": "https://localhost:8080/"
        },
        "id": "7fXbgxpa7wXL",
        "outputId": "37c4e0f0-fd5f-4a6a-d715-6ab6a79ff954"
      },
      "execution_count": 2,
      "outputs": [
        {
          "output_type": "stream",
          "name": "stdout",
          "text": [
            "Alice\n"
          ]
        }
      ]
    },
    {
      "cell_type": "code",
      "source": [
        "student[\"grade\"] = \"A\"\n",
        "print(student)"
      ],
      "metadata": {
        "colab": {
          "base_uri": "https://localhost:8080/"
        },
        "id": "ucOxp_mR8LJw",
        "outputId": "cf9e89ba-f661-48d0-e136-b35dc52a94c5"
      },
      "execution_count": 3,
      "outputs": [
        {
          "output_type": "stream",
          "name": "stdout",
          "text": [
            "{'name': 'Alice', 'age': 14, 'grade': 'A'}\n"
          ]
        }
      ]
    },
    {
      "cell_type": "code",
      "source": [
        "student[\"school\"] = \"Greenwood High\"\n",
        "print(student)"
      ],
      "metadata": {
        "colab": {
          "base_uri": "https://localhost:8080/"
        },
        "id": "zEWws4bq8XG9",
        "outputId": "1bdda202-3a91-4a59-e356-3ee183a7bc87"
      },
      "execution_count": 4,
      "outputs": [
        {
          "output_type": "stream",
          "name": "stdout",
          "text": [
            "{'name': 'Alice', 'age': 14, 'grade': 'A', 'school': 'Greenwood High'}\n"
          ]
        }
      ]
    },
    {
      "cell_type": "code",
      "source": [
        "person = {\"name\": \"Bob\", \"age\": 30, \"city\": \"Nairobi\"}\n",
        "\n",
        "for key,value in person.items():\n",
        "  print(key,\":\", value)"
      ],
      "metadata": {
        "colab": {
          "base_uri": "https://localhost:8080/"
        },
        "id": "4qfcQH1E8nuI",
        "outputId": "be300a7a-a8ba-440f-f2a1-09e3f6b99a54"
      },
      "execution_count": 5,
      "outputs": [
        {
          "output_type": "stream",
          "name": "stdout",
          "text": [
            "name : Bob\n",
            "age : 30\n",
            "city : Nairobi\n"
          ]
        }
      ]
    },
    {
      "cell_type": "code",
      "source": [
        "for key in person.keys():\n",
        "  print(key)"
      ],
      "metadata": {
        "colab": {
          "base_uri": "https://localhost:8080/"
        },
        "id": "jnh3RIrC9HRE",
        "outputId": "e683fcf5-8ca9-4379-a08f-11c0dc3161a1"
      },
      "execution_count": 7,
      "outputs": [
        {
          "output_type": "stream",
          "name": "stdout",
          "text": [
            "name\n",
            "age\n",
            "city\n"
          ]
        }
      ]
    },
    {
      "cell_type": "code",
      "source": [
        "for value in person.values():\n",
        "  print(value)"
      ],
      "metadata": {
        "colab": {
          "base_uri": "https://localhost:8080/"
        },
        "id": "c_Ixophu9RsX",
        "outputId": "7db2bb8d-f534-4ddb-dee6-71e6bfe0b61d"
      },
      "execution_count": 8,
      "outputs": [
        {
          "output_type": "stream",
          "name": "stdout",
          "text": [
            "Bob\n",
            "30\n",
            "Nairobi\n"
          ]
        }
      ]
    },
    {
      "cell_type": "code",
      "source": [
        "person = {\"name\": \"Bob\", \"age\": 30, \"city\": \"Nairobi\"}\n",
        "\n",
        "if \"email\" in person:\n",
        "  email = person[\"email\"]\n",
        "else:\n",
        "  email = \"Not provided\"\n",
        "\n",
        "print(email)"
      ],
      "metadata": {
        "colab": {
          "base_uri": "https://localhost:8080/"
        },
        "id": "TZUDHp9K9en7",
        "outputId": "bece506a-df20-4ef4-84d5-7d416fe1aaa4"
      },
      "execution_count": 10,
      "outputs": [
        {
          "output_type": "stream",
          "name": "stdout",
          "text": [
            "Not provided\n"
          ]
        }
      ]
    },
    {
      "cell_type": "code",
      "source": [
        "person = {\"name\": \"Bob\", \"age\": 30, \"city\": \"Nairobi\"}\n",
        "\n",
        "if \"city\" in person:\n",
        "  print(\"Key 'city' exists in the dictionary.\")\n",
        "else:\n",
        "  print(\"Key 'city' does not exist.\")"
      ],
      "metadata": {
        "colab": {
          "base_uri": "https://localhost:8080/"
        },
        "id": "JsKVytWh_QpQ",
        "outputId": "ce3ef409-0f20-469a-d367-37bbef51f676"
      },
      "execution_count": 11,
      "outputs": [
        {
          "output_type": "stream",
          "name": "stdout",
          "text": [
            "Key 'city' exists in the dictionary.\n"
          ]
        }
      ]
    },
    {
      "cell_type": "code",
      "source": [
        "person.update({\"city\": \"Mombasa\", \"email\": \"bob@example.com\"})\n",
        "print(person)"
      ],
      "metadata": {
        "colab": {
          "base_uri": "https://localhost:8080/"
        },
        "id": "GaRpv5am_rqt",
        "outputId": "b2f1218d-12e9-4622-aabc-24cf15310856"
      },
      "execution_count": 12,
      "outputs": [
        {
          "output_type": "stream",
          "name": "stdout",
          "text": [
            "{'name': 'Bob', 'age': 30, 'city': 'Mombasa', 'email': 'bob@example.com'}\n"
          ]
        }
      ]
    },
    {
      "cell_type": "code",
      "source": [
        "students = [\n",
        "    {\"name\": \"Alice\", \"age\": 14, \"grade\": \"B\"},\n",
        "    {\"name\": \"Bob\", \"age\": 15, \"grade\": \"A\"},\n",
        "    {\"name\": \"Charlie\", \"age\": 14, \"grade\": \"C\"}\n",
        "]\n",
        "print(students)"
      ],
      "metadata": {
        "colab": {
          "base_uri": "https://localhost:8080/"
        },
        "id": "5F0CczNXAI4H",
        "outputId": "d319840d-88fc-4026-dfd9-099c301f38e5"
      },
      "execution_count": 13,
      "outputs": [
        {
          "output_type": "stream",
          "name": "stdout",
          "text": [
            "[{'name': 'Alice', 'age': 14, 'grade': 'B'}, {'name': 'Bob', 'age': 15, 'grade': 'A'}, {'name': 'Charlie', 'age': 14, 'grade': 'C'}]\n"
          ]
        }
      ]
    },
    {
      "cell_type": "code",
      "source": [
        "for student in students:\n",
        "  print(student[\"name\"],\":\", student[\"grade\"])"
      ],
      "metadata": {
        "colab": {
          "base_uri": "https://localhost:8080/"
        },
        "id": "hjcbb7ijBbK_",
        "outputId": "9559493a-a6be-4105-e497-f4073aaa4b70"
      },
      "execution_count": 15,
      "outputs": [
        {
          "output_type": "stream",
          "name": "stdout",
          "text": [
            "Alice : B\n",
            "Bob : A\n",
            "Charlie : C\n"
          ]
        }
      ]
    },
    {
      "cell_type": "code",
      "source": [
        "total = 0\n",
        "\n",
        "for student in students:\n",
        "  total += int(student[\"grade\"])\n",
        "\n",
        "average = total / len(students)\n",
        "\n",
        "print(\"Average grade:\", average)"
      ],
      "metadata": {
        "colab": {
          "base_uri": "https://localhost:8080/",
          "height": 211
        },
        "id": "KnZGPsv_B96_",
        "outputId": "026cb033-490d-4067-aefe-dd038c46d05f"
      },
      "execution_count": 18,
      "outputs": [
        {
          "output_type": "error",
          "ename": "ValueError",
          "evalue": "invalid literal for int() with base 10: 'B'",
          "traceback": [
            "\u001b[0;31m---------------------------------------------------------------------------\u001b[0m",
            "\u001b[0;31mValueError\u001b[0m                                Traceback (most recent call last)",
            "\u001b[0;32m/tmp/ipython-input-2798525091.py\u001b[0m in \u001b[0;36m<cell line: 0>\u001b[0;34m()\u001b[0m\n\u001b[1;32m      2\u001b[0m \u001b[0;34m\u001b[0m\u001b[0m\n\u001b[1;32m      3\u001b[0m \u001b[0;32mfor\u001b[0m \u001b[0mstudent\u001b[0m \u001b[0;32min\u001b[0m \u001b[0mstudents\u001b[0m\u001b[0;34m:\u001b[0m\u001b[0;34m\u001b[0m\u001b[0;34m\u001b[0m\u001b[0m\n\u001b[0;32m----> 4\u001b[0;31m   \u001b[0mtotal\u001b[0m \u001b[0;34m+=\u001b[0m \u001b[0mint\u001b[0m\u001b[0;34m(\u001b[0m\u001b[0mstudent\u001b[0m\u001b[0;34m[\u001b[0m\u001b[0;34m\"grade\"\u001b[0m\u001b[0;34m]\u001b[0m\u001b[0;34m)\u001b[0m\u001b[0;34m\u001b[0m\u001b[0;34m\u001b[0m\u001b[0m\n\u001b[0m\u001b[1;32m      5\u001b[0m \u001b[0;34m\u001b[0m\u001b[0m\n\u001b[1;32m      6\u001b[0m \u001b[0maverage\u001b[0m \u001b[0;34m=\u001b[0m \u001b[0mtotal\u001b[0m \u001b[0;34m/\u001b[0m \u001b[0mlen\u001b[0m\u001b[0;34m(\u001b[0m\u001b[0mstudents\u001b[0m\u001b[0;34m)\u001b[0m\u001b[0;34m\u001b[0m\u001b[0;34m\u001b[0m\u001b[0m\n",
            "\u001b[0;31mValueError\u001b[0m: invalid literal for int() with base 10: 'B'"
          ]
        }
      ]
    },
    {
      "cell_type": "code",
      "source": [
        "students = [\n",
        "    {\"name\": \"Alice\", \"age\": 14, \"grade\": \"B\"},\n",
        "    {\"name\": \"Bob\", \"age\": 15, \"grade\": \"A\"},\n",
        "    {\"name\": \"Charlie\", \"age\": 14, \"grade\": \"C\"}\n",
        "]\n",
        "\n",
        "# Map letter grades to numeric values\n",
        "grade_map = {\"A\": 90, \"B\": 80, \"C\": 70}\n",
        "\n",
        "total = 0\n",
        "for student in students:\n",
        "  grade_letter = student[\"grade\"]\n",
        "  grade_number = grade_map[grade_letter]\n",
        "  total += grade_number\n",
        "\n",
        "average = total/ len(students)\n",
        "\n",
        "print(\"Average grade:\", average)"
      ],
      "metadata": {
        "colab": {
          "base_uri": "https://localhost:8080/"
        },
        "id": "uPB0gM1DCOV7",
        "outputId": "6a0f0332-3cf1-42ce-e1a9-459e8a749473"
      },
      "execution_count": 19,
      "outputs": [
        {
          "output_type": "stream",
          "name": "stdout",
          "text": [
            "Average grade: 80.0\n"
          ]
        }
      ]
    },
    {
      "cell_type": "code",
      "source": [
        "words = [\"apple\", \"banana\", \"apple\", \"cherry\", \"banana\", \"apple\"]\n",
        "\n",
        "word_count = {}\n",
        "\n",
        "for word in words:\n",
        "  if word in word_count:\n",
        "    word_count[word] += 1\n",
        "  else:\n",
        "    word_count[word] = 1\n",
        "\n",
        "print(word_count)"
      ],
      "metadata": {
        "colab": {
          "base_uri": "https://localhost:8080/"
        },
        "id": "SzUiKFJUDaw_",
        "outputId": "d76757ed-f4e7-4a52-c03f-ca2b60bde5d3"
      },
      "execution_count": 20,
      "outputs": [
        {
          "output_type": "stream",
          "name": "stdout",
          "text": [
            "{'apple': 3, 'banana': 2, 'cherry': 1}\n"
          ]
        }
      ]
    },
    {
      "cell_type": "code",
      "source": [
        "phonebook = {}\n",
        "\n",
        "while True:\n",
        "  name = input(\"Enter name (or 'done' to stop adding): \")\n",
        "  if name.lower() == \"done\":\n",
        "    break\n",
        "  number = input(f\"Enter phone number for {name}: \")\n",
        "  phonebook[name] = number\n",
        "\n",
        "# Step 2: Look up contacts\n",
        "while True:\n",
        "  search = input(\"Enter a name to look up (or 'exit' to quit): \")\n",
        "  if search.lower() == \"exit\":\n",
        "    break\n",
        "  if search in phonebook:\n",
        "    print(f\"{search}'s number is {phonebook[search]}\")\n",
        "  else:\n",
        "    print(\"Name not found in phonebook.\")"
      ],
      "metadata": {
        "colab": {
          "base_uri": "https://localhost:8080/"
        },
        "id": "ApTmzLJjD3RB",
        "outputId": "877524e7-2a68-40d7-c4b2-b38c4a9b29b9"
      },
      "execution_count": 22,
      "outputs": [
        {
          "name": "stdout",
          "output_type": "stream",
          "text": [
            "Enter name (or 'done' to stop adding): John\n",
            "Enter phone number for John: 0125698471\n",
            "Enter name (or 'done' to stop adding): Lane\n",
            "Enter phone number for Lane: 2569847134\n",
            "Enter name (or 'done' to stop adding): done\n",
            "Enter a name to look up (or 'exit' to quit): Lane\n",
            "Lane's number is 2569847134\n",
            "Enter a name to look up (or 'exit' to quit): exit\n"
          ]
        }
      ]
    },
    {
      "cell_type": "code",
      "source": [],
      "metadata": {
        "id": "1Z40vtb6Fg_c"
      },
      "execution_count": null,
      "outputs": []
    }
  ]
}