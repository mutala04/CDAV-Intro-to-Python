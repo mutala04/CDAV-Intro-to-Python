{
  "nbformat": 4,
  "nbformat_minor": 0,
  "metadata": {
    "colab": {
      "provenance": [],
      "authorship_tag": "ABX9TyPszzY6dBphKgh8EM/8jPEk",
      "include_colab_link": true
    },
    "kernelspec": {
      "name": "python3",
      "display_name": "Python 3"
    },
    "language_info": {
      "name": "python"
    }
  },
  "cells": [
    {
      "cell_type": "markdown",
      "metadata": {
        "id": "view-in-github",
        "colab_type": "text"
      },
      "source": [
        "<a href=\"https://colab.research.google.com/github/mutala04/CDAV-Intro-to-Python/blob/main/Mini_loops.ipynb\" target=\"_parent\"><img src=\"https://colab.research.google.com/assets/colab-badge.svg\" alt=\"Open In Colab\"/></a>"
      ]
    },
    {
      "cell_type": "code",
      "execution_count": null,
      "metadata": {
        "id": "zXe7yiXAoEft",
        "colab": {
          "base_uri": "https://localhost:8080/"
        },
        "outputId": "51502557-5d76-45c9-9cac-8cd3e3ce8ce7"
      },
      "outputs": [
        {
          "output_type": "stream",
          "name": "stdout",
          "text": [
            "1\n",
            "2\n",
            "3\n",
            "4\n",
            "5\n",
            "6\n",
            "7\n",
            "8\n",
            "9\n",
            "10\n"
          ]
        }
      ],
      "source": [
        "for i in range(1, 11):\n",
        "  print(i)"
      ]
    },
    {
      "cell_type": "code",
      "source": [
        "for i in range(2, 21, 2):\n",
        "  print(i)"
      ],
      "metadata": {
        "colab": {
          "base_uri": "https://localhost:8080/"
        },
        "id": "ZlYu31hGrwJ4",
        "outputId": "e5b20d76-3e57-4bdc-bf9e-1378c9c8cbe1"
      },
      "execution_count": null,
      "outputs": [
        {
          "output_type": "stream",
          "name": "stdout",
          "text": [
            "2\n",
            "4\n",
            "6\n",
            "8\n",
            "10\n",
            "12\n",
            "14\n",
            "16\n",
            "18\n",
            "20\n"
          ]
        }
      ]
    },
    {
      "cell_type": "code",
      "source": [
        "for i in range(1, 6):\n",
        "  print(i**2)"
      ],
      "metadata": {
        "colab": {
          "base_uri": "https://localhost:8080/"
        },
        "id": "9xUFBjhWsH9b",
        "outputId": "d5c15535-91b3-4924-a493-eaeb5b9a33d0"
      },
      "execution_count": null,
      "outputs": [
        {
          "output_type": "stream",
          "name": "stdout",
          "text": [
            "1\n",
            "4\n",
            "9\n",
            "16\n",
            "25\n"
          ]
        }
      ]
    },
    {
      "cell_type": "code",
      "source": [
        "for char in \"Python\":\n",
        "  print(char)"
      ],
      "metadata": {
        "colab": {
          "base_uri": "https://localhost:8080/"
        },
        "id": "jz9XeivnsZkB",
        "outputId": "37186cdb-b226-4a26-c12b-bd4c74d83a60"
      },
      "execution_count": null,
      "outputs": [
        {
          "output_type": "stream",
          "name": "stdout",
          "text": [
            "P\n",
            "y\n",
            "t\n",
            "h\n",
            "o\n",
            "n\n"
          ]
        }
      ]
    },
    {
      "cell_type": "code",
      "source": [
        "names = [\"Alice\", \"Bob\", \"Charlie\"]\n",
        "\n",
        "for name in names:\n",
        "  print(name)"
      ],
      "metadata": {
        "colab": {
          "base_uri": "https://localhost:8080/"
        },
        "id": "uvijsoG8s356",
        "outputId": "eb7e3a17-8836-4db5-877c-f299921996de"
      },
      "execution_count": null,
      "outputs": [
        {
          "output_type": "stream",
          "name": "stdout",
          "text": [
            "Alice\n",
            "Bob\n",
            "Charlie\n"
          ]
        }
      ]
    },
    {
      "cell_type": "code",
      "source": [
        "for i in range(5, 0, -1):\n",
        "  print(i)"
      ],
      "metadata": {
        "colab": {
          "base_uri": "https://localhost:8080/"
        },
        "id": "2zSO5St0tI88",
        "outputId": "802feace-cde7-4601-c49f-79e7a0a17cd9"
      },
      "execution_count": null,
      "outputs": [
        {
          "output_type": "stream",
          "name": "stdout",
          "text": [
            "5\n",
            "4\n",
            "3\n",
            "2\n",
            "1\n"
          ]
        }
      ]
    },
    {
      "cell_type": "code",
      "source": [
        "password = \"\"\n",
        "\n",
        "while password != \"secret\":\n",
        "  password = input(\"Enter password: \")\n",
        "print(\"Access granted!\")\n"
      ],
      "metadata": {
        "colab": {
          "base_uri": "https://localhost:8080/"
        },
        "id": "VuIC_z0LtYgY",
        "outputId": "7f983bf3-8a49-4877-d421-fc7b00502999"
      },
      "execution_count": null,
      "outputs": [
        {
          "output_type": "stream",
          "name": "stdout",
          "text": [
            "Enter password: head\n",
            "Enter password: tail\n",
            "Enter password: secret\n",
            "Access granted!\n"
          ]
        }
      ]
    },
    {
      "cell_type": "code",
      "source": [
        "# initialize sum\n",
        "total = 0\n",
        "\n",
        "while True:\n",
        "  number = int(input(\"Enter a number (0 to stop): \"))\n",
        "  if number == 0:\n",
        "    break\n",
        "  total = total + number\n",
        "\n",
        "print(\"The sum is: \", total)"
      ],
      "metadata": {
        "id": "Qc-bl9Wbuqnv",
        "colab": {
          "base_uri": "https://localhost:8080/"
        },
        "outputId": "f773d7d5-3559-4388-c958-cc0e2091cc60"
      },
      "execution_count": null,
      "outputs": [
        {
          "output_type": "stream",
          "name": "stdout",
          "text": [
            "Enter a number (0 to stop): 5\n",
            "Enter a number (0 to stop): 56\n",
            "Enter a number (0 to stop): 0\n",
            "The sum is:  61\n"
          ]
        }
      ]
    },
    {
      "cell_type": "code",
      "source": [
        "for number in range(1,21):\n",
        "  if number % 3 == 0:\n",
        "    print(number)"
      ],
      "metadata": {
        "colab": {
          "base_uri": "https://localhost:8080/"
        },
        "id": "28FuyDddyiQp",
        "outputId": "d6bcd493-4757-4711-e22e-c18d96a8d0c8"
      },
      "execution_count": null,
      "outputs": [
        {
          "output_type": "stream",
          "name": "stdout",
          "text": [
            "3\n",
            "6\n",
            "9\n",
            "12\n",
            "15\n",
            "18\n"
          ]
        }
      ]
    },
    {
      "cell_type": "code",
      "source": [
        "numbers = [4,7,10,13,16,19]\n",
        "\n",
        "for num in numbers:\n",
        "  if num % 2 !=0:\n",
        "    print(num)"
      ],
      "metadata": {
        "colab": {
          "base_uri": "https://localhost:8080/"
        },
        "id": "F0AQjfFkzYr6",
        "outputId": "36a73f53-b132-48a3-cbd1-e0ca11b35f0f"
      },
      "execution_count": null,
      "outputs": [
        {
          "output_type": "stream",
          "name": "stdout",
          "text": [
            "7\n",
            "13\n",
            "19\n"
          ]
        }
      ]
    },
    {
      "cell_type": "code",
      "source": [
        "fruits = [\"apple\",\"banana\",\"apple\",\"cherry\",\"apple\"]\n",
        "\n",
        "count = fruits.count(\"apple\")\n",
        "print(count)"
      ],
      "metadata": {
        "colab": {
          "base_uri": "https://localhost:8080/"
        },
        "id": "-JZCGw0X0A_F",
        "outputId": "19e3b601-2187-40b6-9f72-2bdcdb08e93d"
      },
      "execution_count": null,
      "outputs": [
        {
          "output_type": "stream",
          "name": "stdout",
          "text": [
            "3\n"
          ]
        }
      ]
    },
    {
      "cell_type": "code",
      "source": [
        "text = \"Jonathan\"\n",
        "print(text[::-1])"
      ],
      "metadata": {
        "colab": {
          "base_uri": "https://localhost:8080/"
        },
        "id": "f_AJFiv00YPp",
        "outputId": "be3506be-661e-411e-f035-79b2badebcfb"
      },
      "execution_count": null,
      "outputs": [
        {
          "output_type": "stream",
          "name": "stdout",
          "text": [
            "nahtanoJ\n"
          ]
        }
      ]
    },
    {
      "cell_type": "code",
      "source": [
        "rows = 5\n",
        "\n",
        "for i in range(1, rows + 1):\n",
        "  print(\"*\" * i)"
      ],
      "metadata": {
        "colab": {
          "base_uri": "https://localhost:8080/"
        },
        "id": "Vc86TFu-1kK8",
        "outputId": "70675b2b-3f0f-4c3d-a3d1-785bb228a70d"
      },
      "execution_count": null,
      "outputs": [
        {
          "output_type": "stream",
          "name": "stdout",
          "text": [
            "*\n",
            "**\n",
            "***\n",
            "****\n",
            "*****\n"
          ]
        }
      ]
    },
    {
      "cell_type": "code",
      "source": [
        "num = int(input(\"Enter a number: \"))\n",
        "factorial = 1\n",
        "\n",
        "for i in range(1, num + 1):\n",
        "  factorial = factorial * i\n",
        "\n",
        "print(\"Factorial of\", num, \"is\", factorial)"
      ],
      "metadata": {
        "colab": {
          "base_uri": "https://localhost:8080/"
        },
        "id": "GjNfdv7v5Evk",
        "outputId": "5f7e32f8-ee32-4558-c9d4-33f17ef3ff1a"
      },
      "execution_count": null,
      "outputs": [
        {
          "output_type": "stream",
          "name": "stdout",
          "text": [
            "Enter a number: 5\n",
            "Factorial of 5 is 120\n"
          ]
        }
      ]
    },
    {
      "cell_type": "code",
      "source": [
        "for i in range(1, 101):\n",
        "  if i % 3 == 0 and i % 5 == 0:\n",
        "    print(\"Jackpot\")\n",
        "  elif i % 3 == 0:\n",
        "    print(\"Hit\")\n",
        "  elif i % 5 == 0:\n",
        "    print(\"Miss\")\n",
        "  else:\n",
        "    print(i)"
      ],
      "metadata": {
        "colab": {
          "base_uri": "https://localhost:8080/"
        },
        "id": "g89cKe-g509G",
        "outputId": "c3d8b7fa-3226-405d-995c-e4168bfb4739"
      },
      "execution_count": null,
      "outputs": [
        {
          "output_type": "stream",
          "name": "stdout",
          "text": [
            "1\n",
            "2\n",
            "Hit\n",
            "4\n",
            "Miss\n",
            "Hit\n",
            "7\n",
            "8\n",
            "Hit\n",
            "Miss\n",
            "11\n",
            "Hit\n",
            "13\n",
            "14\n",
            "Jackpot\n",
            "16\n",
            "17\n",
            "Hit\n",
            "19\n",
            "Miss\n",
            "Hit\n",
            "22\n",
            "23\n",
            "Hit\n",
            "Miss\n",
            "26\n",
            "Hit\n",
            "28\n",
            "29\n",
            "Jackpot\n",
            "31\n",
            "32\n",
            "Hit\n",
            "34\n",
            "Miss\n",
            "Hit\n",
            "37\n",
            "38\n",
            "Hit\n",
            "Miss\n",
            "41\n",
            "Hit\n",
            "43\n",
            "44\n",
            "Jackpot\n",
            "46\n",
            "47\n",
            "Hit\n",
            "49\n",
            "Miss\n",
            "Hit\n",
            "52\n",
            "53\n",
            "Hit\n",
            "Miss\n",
            "56\n",
            "Hit\n",
            "58\n",
            "59\n",
            "Jackpot\n",
            "61\n",
            "62\n",
            "Hit\n",
            "64\n",
            "Miss\n",
            "Hit\n",
            "67\n",
            "68\n",
            "Hit\n",
            "Miss\n",
            "71\n",
            "Hit\n",
            "73\n",
            "74\n",
            "Jackpot\n",
            "76\n",
            "77\n",
            "Hit\n",
            "79\n",
            "Miss\n",
            "Hit\n",
            "82\n",
            "83\n",
            "Hit\n",
            "Miss\n",
            "86\n",
            "Hit\n",
            "88\n",
            "89\n",
            "Jackpot\n",
            "91\n",
            "92\n",
            "Hit\n",
            "94\n",
            "Miss\n",
            "Hit\n",
            "97\n",
            "98\n",
            "Hit\n",
            "Miss\n"
          ]
        }
      ]
    },
    {
      "cell_type": "code",
      "source": [
        "students = []\n",
        "\n",
        "count = int(input(\"How many students are in the class? \"))\n",
        "\n",
        "for i in range(count):\n",
        "  name = input(f\"Enter the name of student {i+1}: \")\n",
        "  students.append(name)\n",
        "\n",
        "print(\"List of students:\", students)"
      ],
      "metadata": {
        "colab": {
          "base_uri": "https://localhost:8080/"
        },
        "id": "SLlHxTF76TVp",
        "outputId": "b495d28b-a8b4-4fe3-9c0a-97152a7588f0"
      },
      "execution_count": null,
      "outputs": [
        {
          "output_type": "stream",
          "name": "stdout",
          "text": [
            "How many students are in the class? 5\n",
            "Enter the name of student 1: Agnes\n",
            "Enter the name of student 2: Melody\n",
            "Enter the name of student 3: Patrick\n",
            "Enter the name of student 4: Erick\n",
            "Enter the name of student 5: Nyambura\n",
            "List of students: ['Agnes', 'Melody', 'Patrick', 'Erick', 'Nyambura']\n"
          ]
        }
      ]
    },
    {
      "cell_type": "code",
      "source": [],
      "metadata": {
        "id": "S1_6ZR3D62AH"
      },
      "execution_count": null,
      "outputs": []
    }
  ]
}