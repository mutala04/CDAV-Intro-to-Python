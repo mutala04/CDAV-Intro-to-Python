{
  "nbformat": 4,
  "nbformat_minor": 0,
  "metadata": {
    "colab": {
      "provenance": [],
      "authorship_tag": "ABX9TyPznmuACxaaq5zskXr6Obe4",
      "include_colab_link": true
    },
    "kernelspec": {
      "name": "python3",
      "display_name": "Python 3"
    },
    "language_info": {
      "name": "python"
    }
  },
  "cells": [
    {
      "cell_type": "markdown",
      "metadata": {
        "id": "view-in-github",
        "colab_type": "text"
      },
      "source": [
        "<a href=\"https://colab.research.google.com/github/mutala04/CDAV-Intro-to-Python/blob/main/Mini_ifs.ipynb\" target=\"_parent\"><img src=\"https://colab.research.google.com/assets/colab-badge.svg\" alt=\"Open In Colab\"/></a>"
      ]
    },
    {
      "cell_type": "code",
      "execution_count": null,
      "metadata": {
        "colab": {
          "base_uri": "https://localhost:8080/"
        },
        "id": "uCXuOy2JobHR",
        "outputId": "67aacfdd-8ead-4259-c385-520900880da4"
      },
      "outputs": [
        {
          "output_type": "stream",
          "name": "stdout",
          "text": [
            "Enter a number: 8\n",
            "The number is positive.\n"
          ]
        }
      ],
      "source": [
        "try:\n",
        "  number = int(input(\"Enter a number: \"))\n",
        "\n",
        "  if number > 0:\n",
        "    print(\"The number is positive.\")\n",
        "  elif number < 0:\n",
        "    print(\"The number is negative.\")\n",
        "  else:\n",
        "    print(\"The number is zero.\")\n",
        "\n",
        "except ValueError:\n",
        "  print(\"Invalid input.Please input a numeric value.\")\n"
      ]
    },
    {
      "cell_type": "code",
      "source": [
        "def check_even_or_odd(number):\n",
        "  if number % 2 == 0:\n",
        "    print(\"This number is even.\")\n",
        "  else:\n",
        "    print(\"This number is odd.\")\n",
        "\n",
        "try:\n",
        "  number = float(input(\"Enter a number: \"))\n",
        "  check_even_or_odd(number)\n",
        "except ValueError:\n",
        "  print(\"Invalid input. Please enter a numeric value\")"
      ],
      "metadata": {
        "colab": {
          "base_uri": "https://localhost:8080/"
        },
        "id": "O9XdE3fsyCfx",
        "outputId": "a4b92841-b3ad-4bbb-c314-22bdaa14fe45"
      },
      "execution_count": null,
      "outputs": [
        {
          "output_type": "stream",
          "name": "stdout",
          "text": [
            "Enter a number: 88\n",
            "This number is even.\n"
          ]
        }
      ]
    },
    {
      "cell_type": "code",
      "source": [
        "def check_if_adult(age):\n",
        "  if age >= 18:\n",
        "    print(\"You are an adult.\")\n",
        "  else:\n",
        "    print(\"You are not an adult.\")\n",
        "\n",
        "try:\n",
        "  age = int(input(\"Enter your age: \"))\n",
        "  check_if_adult(age)\n",
        "except ValueError:\n",
        "  print(\"Please enter integer value\")"
      ],
      "metadata": {
        "colab": {
          "base_uri": "https://localhost:8080/"
        },
        "id": "Flr4azdoyDMK",
        "outputId": "5795fb66-9ea8-4b6e-c4bb-01c24ee876af"
      },
      "execution_count": null,
      "outputs": [
        {
          "output_type": "stream",
          "name": "stdout",
          "text": [
            "Enter your age: 75\n",
            "You are an adult.\n"
          ]
        }
      ]
    },
    {
      "cell_type": "code",
      "source": [
        "def check_correct_password(password):\n",
        "  if password == 'secret':\n",
        "    print(\"Access granted\")\n",
        "  else:\n",
        "    print(\"Access denied. Wrong Password.\")\n",
        "\n",
        "try:\n",
        "  password = str(input(\"Enter your password: \"))\n",
        "  check_correct_password(password)\n",
        "except NameError:\n",
        "  print(\"Please enter correct password\")"
      ],
      "metadata": {
        "colab": {
          "base_uri": "https://localhost:8080/"
        },
        "id": "H4zIqVT42tOt",
        "outputId": "eff3d562-4e23-4d33-9e39-fb135222f2ae"
      },
      "execution_count": null,
      "outputs": [
        {
          "output_type": "stream",
          "name": "stdout",
          "text": [
            "Enter your password: joy\n",
            "Access denied. Wrong Password.\n"
          ]
        }
      ]
    },
    {
      "cell_type": "code",
      "source": [
        "try:\n",
        "  number = int(input(\"Enter your number: \"))\n",
        "\n",
        "  if number % 2 == 0:\n",
        "    print(\"This is an even number.\")\n",
        "  else:\n",
        "    print(\"This is an odd number.\")\n",
        "\n",
        "except ValueError:\n",
        "  print(\"input invalid. Please enter an integer.\")\n"
      ],
      "metadata": {
        "colab": {
          "base_uri": "https://localhost:8080/"
        },
        "id": "Wrj2pKPS4t3r",
        "outputId": "54acd17c-4aa6-48f9-c787-b3f5ad94188f"
      },
      "execution_count": null,
      "outputs": [
        {
          "output_type": "stream",
          "name": "stdout",
          "text": [
            "Enter your number: 8\n",
            "This is an even number.\n"
          ]
        }
      ]
    },
    {
      "cell_type": "code",
      "source": [
        "try:\n",
        "  number = int(input(\"Enter your number: \"))\n",
        "\n",
        "  if number % 3 == 0:\n",
        "    print(\"Hit.\")\n",
        "  elif number % 3 == 1:\n",
        "    print(\"Miss.\")\n",
        "\n",
        "except ValueError:\n",
        "  print(\"input invalid. Please enter an integer.\")"
      ],
      "metadata": {
        "colab": {
          "base_uri": "https://localhost:8080/"
        },
        "id": "E31acvV15dy5",
        "outputId": "91b54fe1-95d9-4d10-f3f7-259dc65592f6"
      },
      "execution_count": null,
      "outputs": [
        {
          "output_type": "stream",
          "name": "stdout",
          "text": [
            "Enter your number: 9\n",
            "Hit.\n"
          ]
        }
      ]
    },
    {
      "cell_type": "code",
      "source": [
        "try:\n",
        "  number = int(input(\"Enter your number: \"))\n",
        "\n",
        "  if number > 0:\n",
        "    print(\"Positive number\")\n",
        "  elif number < 0:\n",
        "    print(\"Negative number\")\n",
        "  else:\n",
        "    print(\"Number is zero\")\n",
        "\n",
        "except ValueError:\n",
        "  print(\"input invalid. Please enter an integer.\")\n"
      ],
      "metadata": {
        "colab": {
          "base_uri": "https://localhost:8080/"
        },
        "id": "AxCtbn9G6FTW",
        "outputId": "08f32317-7b29-4d25-e7e1-8062891b9b5d"
      },
      "execution_count": null,
      "outputs": [
        {
          "output_type": "stream",
          "name": "stdout",
          "text": [
            "Enter your number: 0\n",
            "Number is zero\n"
          ]
        }
      ]
    },
    {
      "cell_type": "code",
      "source": [
        "while True:\n",
        "  try:\n",
        "    grade = float(input(\"What is your grade?(0-100): \"))\n",
        "\n",
        "    if grade == -1:\n",
        "      print(\"Exiting the grade checker.\")\n",
        "      break\n",
        "\n",
        "    if grade <0 or grade> 100:\n",
        "      print(\"Please enter a grade between 0 and 100\")\n",
        "      continue\n",
        "\n",
        "    if grade >= 80:\n",
        "      print(\"Grade is = A\")\n",
        "    elif grade >= 60:\n",
        "      print(\"Grade is = B\")\n",
        "    elif grade >= 40:\n",
        "      print(\"Grade is = C\")\n",
        "    else:\n",
        "      print(\"Grade is = F\")\n",
        "\n",
        "\n",
        "  except ValueError:\n",
        "    print(\"Input is invalid. Please enter a valid grade.\")"
      ],
      "metadata": {
        "colab": {
          "base_uri": "https://localhost:8080/"
        },
        "id": "NnNLFwBj_MnD",
        "outputId": "fad228b5-8bec-4b58-cca6-b7f7260bdacf"
      },
      "execution_count": null,
      "outputs": [
        {
          "output_type": "stream",
          "name": "stdout",
          "text": [
            "What is your grade?(0-100): 80\n",
            "Grade is = A\n",
            "What is your grade?(0-100): 50\n",
            "Grade is = C\n",
            "What is your grade?(0-100): 60\n",
            "Grade is = B\n",
            "What is your grade?(0-100): 20\n",
            "Grade is = F\n",
            "What is your grade?(0-100): -1\n",
            "Exiting the grade checker.\n"
          ]
        }
      ]
    },
    {
      "cell_type": "code",
      "source": [
        "while True:\n",
        "  try:\n",
        "\n",
        "    num1 = float(input(\"Enter the first number: \"))\n",
        "    num2 = float(input(\"Enter the second number: \"))\n",
        "\n",
        "    operator = input(\"Enter an operator (+, -, *, /)\")\n",
        "\n",
        "    if operator == \"+\":\n",
        "      result = num1 + num2\n",
        "      print(\"Result:\", result)\n",
        "    elif operator == \"-\":\n",
        "      result = num1 - num2\n",
        "      print(\"Result:\", result)\n",
        "    elif operator == \"*\":\n",
        "      result = num1 * num2\n",
        "      print(\"Result:\", result)\n",
        "    elif operator == \"/\":\n",
        "      if num2 == 0:\n",
        "        print(\"Division by zero not allowed.\")\n",
        "      else:\n",
        "        result = num1 / num2\n",
        "        print(\"Result:\", result)\n",
        "    else:\n",
        "      print(\"Invalid operator. Please use +, -, *, /.\")\n",
        "\n",
        "  except ValueError:\n",
        "    print(\"Invalid input. Please enter numeric values.\")\n",
        "\n",
        "  again = input(\"Would you like to perform another operation? (yes/no): \").lower()\n",
        "  if again != \"yes\":\n",
        "    print(\"Goodbye!\")\n",
        "    break"
      ],
      "metadata": {
        "colab": {
          "base_uri": "https://localhost:8080/"
        },
        "id": "mAEnJb4m_kt7",
        "outputId": "7f77b0df-c293-4841-81c7-8a5d5a2bc566"
      },
      "execution_count": null,
      "outputs": [
        {
          "output_type": "stream",
          "name": "stdout",
          "text": [
            "Enter the first number: 99\n",
            "Enter the second number: 0.256\n",
            "Enter an operator (+, -, *, /)/\n",
            "Result: 386.71875\n",
            "Would you like to perform another operation? (yes/no): no\n",
            "Goodbye!\n"
          ]
        }
      ]
    },
    {
      "cell_type": "code",
      "source": [
        "try:\n",
        "  age = int(input(\"Enter your age: \"))\n",
        "\n",
        "  if 13 <= age <= age <= 19:\n",
        "    print(\"Teenager\")\n",
        "  else:\n",
        "    print(\"Not a teenager\")\n",
        "\n",
        "except ValueError:\n",
        "  print(\"Invalid input. Please enter a valid number.\")\n"
      ],
      "metadata": {
        "colab": {
          "base_uri": "https://localhost:8080/"
        },
        "id": "qNWM-DHyCbQ1",
        "outputId": "a41542ff-33ed-4a28-8978-163de4d12c86"
      },
      "execution_count": null,
      "outputs": [
        {
          "output_type": "stream",
          "name": "stdout",
          "text": [
            "Enter your age: 15\n",
            "Teenager\n"
          ]
        }
      ]
    },
    {
      "cell_type": "code",
      "source": [
        "year = int(input(\"Enter a year: \"))\n",
        "if (year % 4 == 0 and year % 100 != 0) or (year % 400 == 0):\n",
        "  print(f\"{year} is a leap year.\")\n",
        "else:\n",
        "  print(f\"{year} is not a leap year.\")"
      ],
      "metadata": {
        "id": "DPY8yrNmG1wd",
        "colab": {
          "base_uri": "https://localhost:8080/"
        },
        "outputId": "73ee2900-ee83-4eab-829e-042fdca1612e"
      },
      "execution_count": null,
      "outputs": [
        {
          "output_type": "stream",
          "name": "stdout",
          "text": [
            "Enter a year: 2800\n",
            "2800 is a leap year.\n"
          ]
        }
      ]
    },
    {
      "cell_type": "code",
      "source": [
        "correct_username = \"student\"\n",
        "correct_password = \"1234\"\n",
        "\n",
        "username = input(\"what is your username?: \")\n",
        "password = input(\"what is your password?: \")\n",
        "\n",
        "if username == correct_username and password == correct_password:\n",
        "  print(\"Login successful!\")\n",
        "else:\n",
        "  print(\"Login unsuccessful. Please try again.\")"
      ],
      "metadata": {
        "colab": {
          "base_uri": "https://localhost:8080/"
        },
        "id": "ZtP6O8AQczbX",
        "outputId": "5e508c98-0b30-45e1-980f-9caceef2559c"
      },
      "execution_count": null,
      "outputs": [
        {
          "output_type": "stream",
          "name": "stdout",
          "text": [
            "what is your username?: student\n",
            "what is your password?: 1234\n",
            "Login successful!\n"
          ]
        }
      ]
    },
    {
      "cell_type": "code",
      "source": [
        "username = input(\"what is your username?: \")\n",
        "\n",
        "if username == \"admin\":\n",
        "  password = input(\"what is your password?: \")\n",
        "\n",
        "  if password == \"abcd\":\n",
        "    print(\"Correct password.\")\n",
        "  else:\n",
        "    print(\"Incorrect password.\")\n",
        "\n",
        "else:\n",
        "  print(\"Access denied.Enter correct username.\")"
      ],
      "metadata": {
        "colab": {
          "base_uri": "https://localhost:8080/"
        },
        "id": "9mh8cB2tcywT",
        "outputId": "d738819a-515c-43d4-f796-534394ac0eb4"
      },
      "execution_count": null,
      "outputs": [
        {
          "output_type": "stream",
          "name": "stdout",
          "text": [
            "what is your username?: student\n",
            "Access denied.Enter correct username.\n"
          ]
        }
      ]
    },
    {
      "cell_type": "code",
      "source": [
        "num1 = int(input(\"Enter the first number: \"))\n",
        "num2 = int(input(\"Enter the second number; \"))\n",
        "\n",
        "if num1 % 2 == 0 and num2 % 2 == 0:\n",
        "  print(\"Both are even.\")\n",
        "elif num1 % 2 == 0 or num2 % 2 == 0:\n",
        "  print(\"One is even.\")\n",
        "else:\n",
        "  print(\"None are even.\")\n"
      ],
      "metadata": {
        "colab": {
          "base_uri": "https://localhost:8080/"
        },
        "id": "dmZoCP6khZAl",
        "outputId": "aa07af5d-32ca-4d68-e606-db499f024963"
      },
      "execution_count": null,
      "outputs": [
        {
          "output_type": "stream",
          "name": "stdout",
          "text": [
            "Enter the first number: 5\n",
            "Enter the second number; 6\n",
            "One is even.\n"
          ]
        }
      ]
    },
    {
      "cell_type": "code",
      "source": [
        "subject1 = int(input(\"First subject marks: \"))\n",
        "subject2 = int(input(\"Second subject marks: \"))\n",
        "subject3 = int(input(\"Third subject marks: \"))\n",
        "\n",
        "total_subjects = subject1, subject2, subject3\n",
        "total_subject_marks = (subject1 + subject2 + subject3)\n",
        "average_marks = total_subject_marks/ len(total_subjects)\n",
        "\n",
        "if average_marks >50:\n",
        "  print(\"Passed.\")\n",
        "else:\n",
        "  print(\"Failed.\")"
      ],
      "metadata": {
        "colab": {
          "base_uri": "https://localhost:8080/"
        },
        "id": "OxAfV72-iOZC",
        "outputId": "f176f632-d6eb-4bcd-d788-4aa9061e184e"
      },
      "execution_count": null,
      "outputs": [
        {
          "output_type": "stream",
          "name": "stdout",
          "text": [
            "First subject marks: 50\n",
            "Second subject marks: 50\n",
            "Third subject marks: 80\n",
            "Passed.\n"
          ]
        }
      ]
    },
    {
      "cell_type": "code",
      "source": [
        "choices = ['rock', 'paper', 'scissors']\n",
        "\n",
        "player1 = input(\"Player 1, what is your choice(rock, paper, or scissors): \").strip().lower()\n",
        "player2 = input(\"Player 2, what is your choice(rock, paper, or scissors): \").strip().lower()\n",
        "\n",
        "if player1 == player2:\n",
        "  print(\"It's a tie!\")\n",
        "\n",
        "elif (player1 == \"rock\" and player2 == \"scissors\") \\\n",
        "      or (player1 == \"scissors\" and player2 == \"paper\") \\\n",
        "      or (player1 == \"paper\" and player2 == \"rock\"):\n",
        "    print(\"Player 1 wins!\")\n",
        "\n",
        "else:\n",
        "  print(\"Player 2 wins!\")"
      ],
      "metadata": {
        "id": "YUOK-N7Bja0Y",
        "colab": {
          "base_uri": "https://localhost:8080/"
        },
        "outputId": "307e726a-78a5-417c-b7b7-24d997aa3529"
      },
      "execution_count": null,
      "outputs": [
        {
          "output_type": "stream",
          "name": "stdout",
          "text": [
            "Player 1, what is your choice(rock, paper, or scissors): rock\n",
            "Player 2, what is your choice(rock, paper, or scissors): paper\n",
            "Player 2 wins!\n"
          ]
        }
      ]
    },
    {
      "cell_type": "code",
      "source": [
        "import numpy as np\n",
        "\n",
        "num = int(input(\"Enter a number: \"))\n",
        "\n",
        "if num > 1:\n",
        "    # Create an array of possible divisors from 2 to sqrt(num)\n",
        "    divisors = np.arange(2, int(np.sqrt(num)) + 1)\n",
        "\n",
        "    # Check if any divisor divides the number evenly\n",
        "    if np.any(num % divisors == 0):\n",
        "        print(f\"{num} is NOT a prime number.\")\n",
        "    else:\n",
        "        print(f\"{num} is a prime number.\")\n",
        "else:\n",
        "    print(f\"{num} is NOT a prime number.\")"
      ],
      "metadata": {
        "colab": {
          "base_uri": "https://localhost:8080/"
        },
        "id": "qoPvat9WkFzT",
        "outputId": "523a9dbb-4ac0-449c-a0f9-f7c626c6453a"
      },
      "execution_count": null,
      "outputs": [
        {
          "output_type": "stream",
          "name": "stdout",
          "text": [
            "Enter a number: 5\n",
            "5 is a prime number.\n"
          ]
        }
      ]
    },
    {
      "cell_type": "code",
      "source": [
        "num = int(input(\"Enter a number: \"))\n",
        "\n",
        "if num >= 0:\n",
        "    # Find the square root using exponent 0.5\n",
        "    root = int(num ** 0.5)\n",
        "    if root * root == num:\n",
        "        print(f\"{num} is a perfect square.\")\n",
        "    else:\n",
        "        print(f\"{num} is NOT a perfect square.\")\n",
        "else:\n",
        "    print(\"Negative numbers cannot be perfect squares.\")"
      ],
      "metadata": {
        "colab": {
          "base_uri": "https://localhost:8080/"
        },
        "id": "dSqAzwc0qZYC",
        "outputId": "e4deddd3-c719-4791-e0b2-6c995e44c926"
      },
      "execution_count": null,
      "outputs": [
        {
          "output_type": "stream",
          "name": "stdout",
          "text": [
            "Enter a number: 25\n",
            "25 is a perfect square.\n"
          ]
        }
      ]
    }
  ]
}